{
 "cells": [
  {
   "cell_type": "markdown",
   "metadata": {},
   "source": [
    "# This is a demonstration of the use of the Kivy package for creating simple GUI\n",
    "\n",
    "* [Kivy Documentation](https://media.readthedocs.org/pdf/kivy/latest/kivy.pdf)\n",
    "* [Markdown Cheat Sheet](https://github.com/adam-p/markdown-here/wiki/Markdown-Cheatsheet)"
   ]
  },
  {
   "cell_type": "code",
   "execution_count": 20,
   "metadata": {},
   "outputs": [],
   "source": [
    "from kivy.app import App\n",
    "from kivy.uix.label import Label\n",
    "from kivy.uix.gridlayout import GridLayout # grid layout for app\n",
    "from kivy.uix.textinput import TextInput # text input field\n",
    "from kivy.uix.button import Button # button"
   ]
  },
  {
   "cell_type": "code",
   "execution_count": 21,
   "metadata": {},
   "outputs": [],
   "source": [
    "class MainScreen(GridLayout): # this is going to be the main screen for our app\n",
    "    def __init__(self, **kwargs):\n",
    "        super(MainScreen, self).__init__(**kwargs)\n",
    "        self.cols = 2 # number of columns for grid layout\n",
    "        self.add_widget(Label(text='Input Text')) #input text for QE\n",
    "        self.add_widget(TextInput(multiline=True))\n",
    "        self.add_widget(Button(text='Extract Question'))\n",
    "    "
   ]
  },
  {
   "cell_type": "code",
   "execution_count": 22,
   "metadata": {},
   "outputs": [],
   "source": [
    "class QuestionExtraction(App):\n",
    "    def build(self):\n",
    "        return MainScreen()\n",
    "    "
   ]
  },
  {
   "cell_type": "code",
   "execution_count": null,
   "metadata": {},
   "outputs": [],
   "source": []
  },
  {
   "cell_type": "code",
   "execution_count": null,
   "metadata": {},
   "outputs": [],
   "source": []
  },
  {
   "cell_type": "code",
   "execution_count": 23,
   "metadata": {},
   "outputs": [],
   "source": [
    "if __name__=='__main__':\n",
    "    QuestionExtraction().run()"
   ]
  },
  {
   "cell_type": "code",
   "execution_count": null,
   "metadata": {},
   "outputs": [],
   "source": []
  }
 ],
 "metadata": {
  "kernelspec": {
   "display_name": "Python 3",
   "language": "python",
   "name": "python3"
  },
  "language_info": {
   "codemirror_mode": {
    "name": "ipython",
    "version": 3
   },
   "file_extension": ".py",
   "mimetype": "text/x-python",
   "name": "python",
   "nbconvert_exporter": "python",
   "pygments_lexer": "ipython3",
   "version": "3.6.5"
  }
 },
 "nbformat": 4,
 "nbformat_minor": 2
}
